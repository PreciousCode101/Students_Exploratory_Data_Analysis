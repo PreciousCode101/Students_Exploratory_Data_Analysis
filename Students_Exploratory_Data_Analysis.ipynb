{
 "cells": [
  {
   "cell_type": "markdown",
   "id": "dde5d807",
   "metadata": {},
   "source": [
    "# An Exploratory Data Analysis on Students data set\n",
    "   ### The main objective of this analysis is to determine whether there's a positive relationship that exist between race and GPA variables. Note that a variable refers to a single column in a data set\n",
    "   \n",
    "   ### Below are the key processes used throughout the Data Analysis on the students data:\n",
    "   ### 1. Structure Base Analysis\n",
    "   ### 2. Data Cleaning\n",
    "   ### 3. Univariate Analysis\n",
    "   ### 4. Bivariate Analysis\n",
    "   ### 5. Central Tendency\n",
    "   ### 6. Data Visualization"
   ]
  },
  {
   "cell_type": "code",
   "execution_count": 1,
   "id": "105fa59e",
   "metadata": {},
   "outputs": [],
   "source": [
    "# Import the necessary libraries for the data set\n",
    "\n",
    "import numpy as np\n",
    "import pandas as pd\n",
    "import seaborn as sns\n",
    "import matplotlib.pyplot as plt"
   ]
  },
  {
   "cell_type": "markdown",
   "id": "0472c38b",
   "metadata": {},
   "source": [
    "## Structured Based Data Exploration\n",
    "\n",
    "### It is usually the very first step taken when Data analysis process starts. It gives us the complete information of any Data set used! \n",
    "\n",
    "### Functions like head(), tail(), count(), info(), describe(), info() and others shows the relevant information of your Data set.\n",
    " \n",
    "### Before moving on, I verified the imported libraries by printing the data."
   ]
  },
  {
   "cell_type": "code",
   "execution_count": 2,
   "id": "c7210b71",
   "metadata": {},
   "outputs": [
    {
     "data": {
      "text/html": [
       "<div>\n",
       "<style scoped>\n",
       "    .dataframe tbody tr th:only-of-type {\n",
       "        vertical-align: middle;\n",
       "    }\n",
       "\n",
       "    .dataframe tbody tr th {\n",
       "        vertical-align: top;\n",
       "    }\n",
       "\n",
       "    .dataframe thead th {\n",
       "        text-align: right;\n",
       "    }\n",
       "</style>\n",
       "<table border=\"1\" class=\"dataframe\">\n",
       "  <thead>\n",
       "    <tr style=\"text-align: right;\">\n",
       "      <th></th>\n",
       "      <th>ID</th>\n",
       "      <th>class</th>\n",
       "      <th>gender</th>\n",
       "      <th>race</th>\n",
       "      <th>GPA</th>\n",
       "      <th>Algebra</th>\n",
       "      <th>Calculus1</th>\n",
       "      <th>Calculus2</th>\n",
       "      <th>Statistics</th>\n",
       "      <th>Probability</th>\n",
       "      <th>Measure</th>\n",
       "      <th>Functional_analysis</th>\n",
       "      <th>from1</th>\n",
       "      <th>from2</th>\n",
       "      <th>from3</th>\n",
       "      <th>from4</th>\n",
       "      <th>y</th>\n",
       "    </tr>\n",
       "  </thead>\n",
       "  <tbody>\n",
       "    <tr>\n",
       "      <th>0</th>\n",
       "      <td>1141</td>\n",
       "      <td>A</td>\n",
       "      <td>male</td>\n",
       "      <td>1</td>\n",
       "      <td>73.47</td>\n",
       "      <td>64</td>\n",
       "      <td>81</td>\n",
       "      <td>87</td>\n",
       "      <td>60</td>\n",
       "      <td>74</td>\n",
       "      <td>71</td>\n",
       "      <td>60</td>\n",
       "      <td>A</td>\n",
       "      <td>A</td>\n",
       "      <td>A</td>\n",
       "      <td>3</td>\n",
       "      <td>0</td>\n",
       "    </tr>\n",
       "    <tr>\n",
       "      <th>1</th>\n",
       "      <td>1142</td>\n",
       "      <td>A</td>\n",
       "      <td>female</td>\n",
       "      <td>1</td>\n",
       "      <td>71.22</td>\n",
       "      <td>57</td>\n",
       "      <td>50</td>\n",
       "      <td>51</td>\n",
       "      <td>51</td>\n",
       "      <td>55</td>\n",
       "      <td>62</td>\n",
       "      <td>61</td>\n",
       "      <td>B</td>\n",
       "      <td>A</td>\n",
       "      <td>A</td>\n",
       "      <td>2</td>\n",
       "      <td>0</td>\n",
       "    </tr>\n",
       "    <tr>\n",
       "      <th>2</th>\n",
       "      <td>1143</td>\n",
       "      <td>A</td>\n",
       "      <td>female</td>\n",
       "      <td>2</td>\n",
       "      <td>74.56</td>\n",
       "      <td>47</td>\n",
       "      <td>48</td>\n",
       "      <td>71</td>\n",
       "      <td>60</td>\n",
       "      <td>61</td>\n",
       "      <td>68</td>\n",
       "      <td>64</td>\n",
       "      <td>C</td>\n",
       "      <td>A</td>\n",
       "      <td>A</td>\n",
       "      <td>0</td>\n",
       "      <td>1</td>\n",
       "    </tr>\n",
       "    <tr>\n",
       "      <th>3</th>\n",
       "      <td>1144</td>\n",
       "      <td>A</td>\n",
       "      <td>female</td>\n",
       "      <td>1</td>\n",
       "      <td>72.89</td>\n",
       "      <td>46</td>\n",
       "      <td>72</td>\n",
       "      <td>38</td>\n",
       "      <td>60</td>\n",
       "      <td>29</td>\n",
       "      <td>54</td>\n",
       "      <td>51</td>\n",
       "      <td>D</td>\n",
       "      <td>A</td>\n",
       "      <td>A</td>\n",
       "      <td>0</td>\n",
       "      <td>0</td>\n",
       "    </tr>\n",
       "    <tr>\n",
       "      <th>4</th>\n",
       "      <td>1145</td>\n",
       "      <td>A</td>\n",
       "      <td>female</td>\n",
       "      <td>1</td>\n",
       "      <td>70.11</td>\n",
       "      <td>49</td>\n",
       "      <td>45</td>\n",
       "      <td>63</td>\n",
       "      <td>60</td>\n",
       "      <td>66</td>\n",
       "      <td>66</td>\n",
       "      <td>61</td>\n",
       "      <td>E</td>\n",
       "      <td>A</td>\n",
       "      <td>A</td>\n",
       "      <td>0</td>\n",
       "      <td>0</td>\n",
       "    </tr>\n",
       "    <tr>\n",
       "      <th>...</th>\n",
       "      <td>...</td>\n",
       "      <td>...</td>\n",
       "      <td>...</td>\n",
       "      <td>...</td>\n",
       "      <td>...</td>\n",
       "      <td>...</td>\n",
       "      <td>...</td>\n",
       "      <td>...</td>\n",
       "      <td>...</td>\n",
       "      <td>...</td>\n",
       "      <td>...</td>\n",
       "      <td>...</td>\n",
       "      <td>...</td>\n",
       "      <td>...</td>\n",
       "      <td>...</td>\n",
       "      <td>...</td>\n",
       "      <td>...</td>\n",
       "    </tr>\n",
       "    <tr>\n",
       "      <th>100</th>\n",
       "      <td>1241</td>\n",
       "      <td>A</td>\n",
       "      <td>female</td>\n",
       "      <td>1</td>\n",
       "      <td>88.34</td>\n",
       "      <td>87</td>\n",
       "      <td>83</td>\n",
       "      <td>92</td>\n",
       "      <td>98</td>\n",
       "      <td>93</td>\n",
       "      <td>86</td>\n",
       "      <td>90</td>\n",
       "      <td>M</td>\n",
       "      <td>B</td>\n",
       "      <td>A</td>\n",
       "      <td>0</td>\n",
       "      <td>1</td>\n",
       "    </tr>\n",
       "    <tr>\n",
       "      <th>101</th>\n",
       "      <td>1242</td>\n",
       "      <td>B</td>\n",
       "      <td>male</td>\n",
       "      <td>1</td>\n",
       "      <td>89.84</td>\n",
       "      <td>98</td>\n",
       "      <td>77</td>\n",
       "      <td>95</td>\n",
       "      <td>98</td>\n",
       "      <td>96</td>\n",
       "      <td>88</td>\n",
       "      <td>100</td>\n",
       "      <td>A</td>\n",
       "      <td>B</td>\n",
       "      <td>A</td>\n",
       "      <td>0</td>\n",
       "      <td>1</td>\n",
       "    </tr>\n",
       "    <tr>\n",
       "      <th>102</th>\n",
       "      <td>1243</td>\n",
       "      <td>B</td>\n",
       "      <td>male</td>\n",
       "      <td>1</td>\n",
       "      <td>88.82</td>\n",
       "      <td>83</td>\n",
       "      <td>80</td>\n",
       "      <td>91</td>\n",
       "      <td>98</td>\n",
       "      <td>93</td>\n",
       "      <td>95</td>\n",
       "      <td>71</td>\n",
       "      <td>T</td>\n",
       "      <td>B</td>\n",
       "      <td>A</td>\n",
       "      <td>0</td>\n",
       "      <td>2</td>\n",
       "    </tr>\n",
       "    <tr>\n",
       "      <th>103</th>\n",
       "      <td>1244</td>\n",
       "      <td>A</td>\n",
       "      <td>male</td>\n",
       "      <td>1</td>\n",
       "      <td>86.60</td>\n",
       "      <td>92</td>\n",
       "      <td>82</td>\n",
       "      <td>91</td>\n",
       "      <td>99</td>\n",
       "      <td>94</td>\n",
       "      <td>82</td>\n",
       "      <td>78</td>\n",
       "      <td>S</td>\n",
       "      <td>B</td>\n",
       "      <td>A</td>\n",
       "      <td>0</td>\n",
       "      <td>2</td>\n",
       "    </tr>\n",
       "    <tr>\n",
       "      <th>104</th>\n",
       "      <td>1245</td>\n",
       "      <td>A</td>\n",
       "      <td>male</td>\n",
       "      <td>1</td>\n",
       "      <td>93.71</td>\n",
       "      <td>93</td>\n",
       "      <td>97</td>\n",
       "      <td>99</td>\n",
       "      <td>100</td>\n",
       "      <td>97</td>\n",
       "      <td>90</td>\n",
       "      <td>90</td>\n",
       "      <td>K</td>\n",
       "      <td>B</td>\n",
       "      <td>A</td>\n",
       "      <td>0</td>\n",
       "      <td>2</td>\n",
       "    </tr>\n",
       "  </tbody>\n",
       "</table>\n",
       "<p>105 rows × 17 columns</p>\n",
       "</div>"
      ],
      "text/plain": [
       "       ID class  gender  race    GPA  Algebra  Calculus1  Calculus2  \\\n",
       "0    1141     A    male     1  73.47       64         81         87   \n",
       "1    1142     A  female     1  71.22       57         50         51   \n",
       "2    1143     A  female     2  74.56       47         48         71   \n",
       "3    1144     A  female     1  72.89       46         72         38   \n",
       "4    1145     A  female     1  70.11       49         45         63   \n",
       "..    ...   ...     ...   ...    ...      ...        ...        ...   \n",
       "100  1241     A  female     1  88.34       87         83         92   \n",
       "101  1242     B    male     1  89.84       98         77         95   \n",
       "102  1243     B    male     1  88.82       83         80         91   \n",
       "103  1244     A    male     1  86.60       92         82         91   \n",
       "104  1245     A    male     1  93.71       93         97         99   \n",
       "\n",
       "     Statistics  Probability  Measure  Functional_analysis from1 from2 from3  \\\n",
       "0            60           74       71                   60     A     A     A   \n",
       "1            51           55       62                   61     B     A     A   \n",
       "2            60           61       68                   64     C     A     A   \n",
       "3            60           29       54                   51     D     A     A   \n",
       "4            60           66       66                   61     E     A     A   \n",
       "..          ...          ...      ...                  ...   ...   ...   ...   \n",
       "100          98           93       86                   90     M     B     A   \n",
       "101          98           96       88                  100     A     B     A   \n",
       "102          98           93       95                   71     T     B     A   \n",
       "103          99           94       82                   78     S     B     A   \n",
       "104         100           97       90                   90     K     B     A   \n",
       "\n",
       "     from4  y  \n",
       "0        3  0  \n",
       "1        2  0  \n",
       "2        0  1  \n",
       "3        0  0  \n",
       "4        0  0  \n",
       "..     ... ..  \n",
       "100      0  1  \n",
       "101      0  1  \n",
       "102      0  2  \n",
       "103      0  2  \n",
       "104      0  2  \n",
       "\n",
       "[105 rows x 17 columns]"
      ]
     },
     "execution_count": 2,
     "metadata": {},
     "output_type": "execute_result"
    }
   ],
   "source": [
    "# Open the data set\n",
    "\n",
    "df = pd.read_csv('Studentseda.csv')\n",
    "df"
   ]
  },
  {
   "cell_type": "markdown",
   "id": "200f63d4",
   "metadata": {},
   "source": [
    "###  Here, I used the head function to view the top five rows of the data set and discovered certain columns that are unrelated to the objective of this analysis"
   ]
  },
  {
   "cell_type": "code",
   "execution_count": 3,
   "id": "5d801d9d",
   "metadata": {},
   "outputs": [
    {
     "data": {
      "text/html": [
       "<div>\n",
       "<style scoped>\n",
       "    .dataframe tbody tr th:only-of-type {\n",
       "        vertical-align: middle;\n",
       "    }\n",
       "\n",
       "    .dataframe tbody tr th {\n",
       "        vertical-align: top;\n",
       "    }\n",
       "\n",
       "    .dataframe thead th {\n",
       "        text-align: right;\n",
       "    }\n",
       "</style>\n",
       "<table border=\"1\" class=\"dataframe\">\n",
       "  <thead>\n",
       "    <tr style=\"text-align: right;\">\n",
       "      <th></th>\n",
       "      <th>ID</th>\n",
       "      <th>class</th>\n",
       "      <th>gender</th>\n",
       "      <th>race</th>\n",
       "      <th>GPA</th>\n",
       "      <th>Algebra</th>\n",
       "      <th>Calculus1</th>\n",
       "      <th>Calculus2</th>\n",
       "      <th>Statistics</th>\n",
       "      <th>Probability</th>\n",
       "      <th>Measure</th>\n",
       "      <th>Functional_analysis</th>\n",
       "      <th>from1</th>\n",
       "      <th>from2</th>\n",
       "      <th>from3</th>\n",
       "      <th>from4</th>\n",
       "      <th>y</th>\n",
       "    </tr>\n",
       "  </thead>\n",
       "  <tbody>\n",
       "    <tr>\n",
       "      <th>0</th>\n",
       "      <td>1141</td>\n",
       "      <td>A</td>\n",
       "      <td>male</td>\n",
       "      <td>1</td>\n",
       "      <td>73.47</td>\n",
       "      <td>64</td>\n",
       "      <td>81</td>\n",
       "      <td>87</td>\n",
       "      <td>60</td>\n",
       "      <td>74</td>\n",
       "      <td>71</td>\n",
       "      <td>60</td>\n",
       "      <td>A</td>\n",
       "      <td>A</td>\n",
       "      <td>A</td>\n",
       "      <td>3</td>\n",
       "      <td>0</td>\n",
       "    </tr>\n",
       "    <tr>\n",
       "      <th>1</th>\n",
       "      <td>1142</td>\n",
       "      <td>A</td>\n",
       "      <td>female</td>\n",
       "      <td>1</td>\n",
       "      <td>71.22</td>\n",
       "      <td>57</td>\n",
       "      <td>50</td>\n",
       "      <td>51</td>\n",
       "      <td>51</td>\n",
       "      <td>55</td>\n",
       "      <td>62</td>\n",
       "      <td>61</td>\n",
       "      <td>B</td>\n",
       "      <td>A</td>\n",
       "      <td>A</td>\n",
       "      <td>2</td>\n",
       "      <td>0</td>\n",
       "    </tr>\n",
       "    <tr>\n",
       "      <th>2</th>\n",
       "      <td>1143</td>\n",
       "      <td>A</td>\n",
       "      <td>female</td>\n",
       "      <td>2</td>\n",
       "      <td>74.56</td>\n",
       "      <td>47</td>\n",
       "      <td>48</td>\n",
       "      <td>71</td>\n",
       "      <td>60</td>\n",
       "      <td>61</td>\n",
       "      <td>68</td>\n",
       "      <td>64</td>\n",
       "      <td>C</td>\n",
       "      <td>A</td>\n",
       "      <td>A</td>\n",
       "      <td>0</td>\n",
       "      <td>1</td>\n",
       "    </tr>\n",
       "    <tr>\n",
       "      <th>3</th>\n",
       "      <td>1144</td>\n",
       "      <td>A</td>\n",
       "      <td>female</td>\n",
       "      <td>1</td>\n",
       "      <td>72.89</td>\n",
       "      <td>46</td>\n",
       "      <td>72</td>\n",
       "      <td>38</td>\n",
       "      <td>60</td>\n",
       "      <td>29</td>\n",
       "      <td>54</td>\n",
       "      <td>51</td>\n",
       "      <td>D</td>\n",
       "      <td>A</td>\n",
       "      <td>A</td>\n",
       "      <td>0</td>\n",
       "      <td>0</td>\n",
       "    </tr>\n",
       "    <tr>\n",
       "      <th>4</th>\n",
       "      <td>1145</td>\n",
       "      <td>A</td>\n",
       "      <td>female</td>\n",
       "      <td>1</td>\n",
       "      <td>70.11</td>\n",
       "      <td>49</td>\n",
       "      <td>45</td>\n",
       "      <td>63</td>\n",
       "      <td>60</td>\n",
       "      <td>66</td>\n",
       "      <td>66</td>\n",
       "      <td>61</td>\n",
       "      <td>E</td>\n",
       "      <td>A</td>\n",
       "      <td>A</td>\n",
       "      <td>0</td>\n",
       "      <td>0</td>\n",
       "    </tr>\n",
       "  </tbody>\n",
       "</table>\n",
       "</div>"
      ],
      "text/plain": [
       "     ID class  gender  race    GPA  Algebra  Calculus1  Calculus2  Statistics  \\\n",
       "0  1141     A    male     1  73.47       64         81         87          60   \n",
       "1  1142     A  female     1  71.22       57         50         51          51   \n",
       "2  1143     A  female     2  74.56       47         48         71          60   \n",
       "3  1144     A  female     1  72.89       46         72         38          60   \n",
       "4  1145     A  female     1  70.11       49         45         63          60   \n",
       "\n",
       "   Probability  Measure  Functional_analysis from1 from2 from3  from4  y  \n",
       "0           74       71                   60     A     A     A      3  0  \n",
       "1           55       62                   61     B     A     A      2  0  \n",
       "2           61       68                   64     C     A     A      0  1  \n",
       "3           29       54                   51     D     A     A      0  0  \n",
       "4           66       66                   61     E     A     A      0  0  "
      ]
     },
     "execution_count": 3,
     "metadata": {},
     "output_type": "execute_result"
    }
   ],
   "source": [
    "# View the first first rows of the dataset\n",
    "\n",
    "df.head()"
   ]
  },
  {
   "cell_type": "markdown",
   "id": "a52224aa",
   "metadata": {},
   "source": [
    "## Step 4\n",
    "\n",
    "   ### I proceeded to delete From1, from2, from3, from4, and y columns from the data frame, since it's unrelated to the objective of this particular analysis. It's also important to note that the columns can still be retained for other type of analysis."
   ]
  },
  {
   "cell_type": "code",
   "execution_count": 4,
   "id": "9c19e255",
   "metadata": {},
   "outputs": [],
   "source": [
    "# Drop the ID axis\n",
    "\n",
    "df.drop('ID', axis=1, inplace=True)"
   ]
  },
  {
   "cell_type": "code",
   "execution_count": 5,
   "id": "ad161ae2",
   "metadata": {},
   "outputs": [],
   "source": [
    "# Drop the from1 axis\n",
    "\n",
    "df.drop('from1', axis=1, inplace=True)"
   ]
  },
  {
   "cell_type": "code",
   "execution_count": 6,
   "id": "3e68f308",
   "metadata": {},
   "outputs": [],
   "source": [
    "# Drop the from2 axis\n",
    "\n",
    "df.drop('from2', axis=1, inplace=True)"
   ]
  },
  {
   "cell_type": "code",
   "execution_count": 7,
   "id": "5ffeb265",
   "metadata": {},
   "outputs": [],
   "source": [
    "# # Drop the from3 axis\n",
    "\n",
    "df.drop('from3', axis=1, inplace=True)"
   ]
  },
  {
   "cell_type": "code",
   "execution_count": 8,
   "id": "dbc39fb4",
   "metadata": {},
   "outputs": [],
   "source": [
    "# Drop the from4 axis\n",
    "\n",
    "df.drop('from4', axis=1, inplace=True)"
   ]
  },
  {
   "cell_type": "code",
   "execution_count": 9,
   "id": "6cdf1eda",
   "metadata": {},
   "outputs": [],
   "source": [
    "# Drop the y axis\n",
    "\n",
    "df.drop('y', axis=1, inplace=True)"
   ]
  },
  {
   "cell_type": "markdown",
   "id": "71f676b6",
   "metadata": {},
   "source": [
    "###  The source from which this data set was obtained specified that the race column was censored and represented with numbers. This implies that each number represent a particular race.\n",
    "\n",
    "### So it's very important to check the unique number of each race represented. \n"
   ]
  },
  {
   "cell_type": "code",
   "execution_count": 10,
   "id": "40b5b059",
   "metadata": {},
   "outputs": [
    {
     "data": {
      "text/plain": [
       "array([1, 2, 3, 4, 5, 6, 7], dtype=int64)"
      ]
     },
     "execution_count": 10,
     "metadata": {},
     "output_type": "execute_result"
    }
   ],
   "source": [
    "'''The race used in the data set are censored and represented with numbers. \n",
    "Then check the actual race numbers.\n",
    "'''\n",
    "\n",
    "df.race.unique()"
   ]
  },
  {
   "cell_type": "code",
   "execution_count": 11,
   "id": "9ab314ef",
   "metadata": {},
   "outputs": [
    {
     "data": {
      "text/html": [
       "<div>\n",
       "<style scoped>\n",
       "    .dataframe tbody tr th:only-of-type {\n",
       "        vertical-align: middle;\n",
       "    }\n",
       "\n",
       "    .dataframe tbody tr th {\n",
       "        vertical-align: top;\n",
       "    }\n",
       "\n",
       "    .dataframe thead th {\n",
       "        text-align: right;\n",
       "    }\n",
       "</style>\n",
       "<table border=\"1\" class=\"dataframe\">\n",
       "  <thead>\n",
       "    <tr style=\"text-align: right;\">\n",
       "      <th></th>\n",
       "      <th>class</th>\n",
       "      <th>gender</th>\n",
       "      <th>race</th>\n",
       "      <th>GPA</th>\n",
       "      <th>Algebra</th>\n",
       "      <th>Calculus1</th>\n",
       "      <th>Calculus2</th>\n",
       "      <th>Statistics</th>\n",
       "      <th>Probability</th>\n",
       "      <th>Measure</th>\n",
       "      <th>Functional_analysis</th>\n",
       "    </tr>\n",
       "  </thead>\n",
       "  <tbody>\n",
       "    <tr>\n",
       "      <th>100</th>\n",
       "      <td>A</td>\n",
       "      <td>female</td>\n",
       "      <td>1</td>\n",
       "      <td>88.34</td>\n",
       "      <td>87</td>\n",
       "      <td>83</td>\n",
       "      <td>92</td>\n",
       "      <td>98</td>\n",
       "      <td>93</td>\n",
       "      <td>86</td>\n",
       "      <td>90</td>\n",
       "    </tr>\n",
       "    <tr>\n",
       "      <th>101</th>\n",
       "      <td>B</td>\n",
       "      <td>male</td>\n",
       "      <td>1</td>\n",
       "      <td>89.84</td>\n",
       "      <td>98</td>\n",
       "      <td>77</td>\n",
       "      <td>95</td>\n",
       "      <td>98</td>\n",
       "      <td>96</td>\n",
       "      <td>88</td>\n",
       "      <td>100</td>\n",
       "    </tr>\n",
       "    <tr>\n",
       "      <th>102</th>\n",
       "      <td>B</td>\n",
       "      <td>male</td>\n",
       "      <td>1</td>\n",
       "      <td>88.82</td>\n",
       "      <td>83</td>\n",
       "      <td>80</td>\n",
       "      <td>91</td>\n",
       "      <td>98</td>\n",
       "      <td>93</td>\n",
       "      <td>95</td>\n",
       "      <td>71</td>\n",
       "    </tr>\n",
       "    <tr>\n",
       "      <th>103</th>\n",
       "      <td>A</td>\n",
       "      <td>male</td>\n",
       "      <td>1</td>\n",
       "      <td>86.60</td>\n",
       "      <td>92</td>\n",
       "      <td>82</td>\n",
       "      <td>91</td>\n",
       "      <td>99</td>\n",
       "      <td>94</td>\n",
       "      <td>82</td>\n",
       "      <td>78</td>\n",
       "    </tr>\n",
       "    <tr>\n",
       "      <th>104</th>\n",
       "      <td>A</td>\n",
       "      <td>male</td>\n",
       "      <td>1</td>\n",
       "      <td>93.71</td>\n",
       "      <td>93</td>\n",
       "      <td>97</td>\n",
       "      <td>99</td>\n",
       "      <td>100</td>\n",
       "      <td>97</td>\n",
       "      <td>90</td>\n",
       "      <td>90</td>\n",
       "    </tr>\n",
       "  </tbody>\n",
       "</table>\n",
       "</div>"
      ],
      "text/plain": [
       "    class  gender  race    GPA  Algebra  Calculus1  Calculus2  Statistics  \\\n",
       "100     A  female     1  88.34       87         83         92          98   \n",
       "101     B    male     1  89.84       98         77         95          98   \n",
       "102     B    male     1  88.82       83         80         91          98   \n",
       "103     A    male     1  86.60       92         82         91          99   \n",
       "104     A    male     1  93.71       93         97         99         100   \n",
       "\n",
       "     Probability  Measure  Functional_analysis  \n",
       "100           93       86                   90  \n",
       "101           96       88                  100  \n",
       "102           93       95                   71  \n",
       "103           94       82                   78  \n",
       "104           97       90                   90  "
      ]
     },
     "execution_count": 11,
     "metadata": {},
     "output_type": "execute_result"
    }
   ],
   "source": [
    "# View the last five rows of the data set\n",
    "\n",
    "df.tail()"
   ]
  },
  {
   "cell_type": "code",
   "execution_count": 12,
   "id": "cb2124ea",
   "metadata": {},
   "outputs": [
    {
     "name": "stdout",
     "output_type": "stream",
     "text": [
      "<class 'pandas.core.frame.DataFrame'>\n",
      "RangeIndex: 105 entries, 0 to 104\n",
      "Data columns (total 11 columns):\n",
      " #   Column               Non-Null Count  Dtype  \n",
      "---  ------               --------------  -----  \n",
      " 0   class                105 non-null    object \n",
      " 1   gender               105 non-null    object \n",
      " 2   race                 105 non-null    int64  \n",
      " 3   GPA                  105 non-null    float64\n",
      " 4   Algebra              105 non-null    int64  \n",
      " 5   Calculus1            105 non-null    int64  \n",
      " 6   Calculus2            105 non-null    int64  \n",
      " 7   Statistics           105 non-null    int64  \n",
      " 8   Probability          105 non-null    int64  \n",
      " 9   Measure              105 non-null    int64  \n",
      " 10  Functional_analysis  105 non-null    int64  \n",
      "dtypes: float64(1), int64(8), object(2)\n",
      "memory usage: 8.3+ KB\n"
     ]
    }
   ],
   "source": [
    "# Check all the complete information about the data set\n",
    "\n",
    "df.info()"
   ]
  },
  {
   "cell_type": "code",
   "execution_count": 13,
   "id": "dcc3540b",
   "metadata": {},
   "outputs": [
    {
     "data": {
      "text/html": [
       "<div>\n",
       "<style scoped>\n",
       "    .dataframe tbody tr th:only-of-type {\n",
       "        vertical-align: middle;\n",
       "    }\n",
       "\n",
       "    .dataframe tbody tr th {\n",
       "        vertical-align: top;\n",
       "    }\n",
       "\n",
       "    .dataframe thead th {\n",
       "        text-align: right;\n",
       "    }\n",
       "</style>\n",
       "<table border=\"1\" class=\"dataframe\">\n",
       "  <thead>\n",
       "    <tr style=\"text-align: right;\">\n",
       "      <th></th>\n",
       "      <th>race</th>\n",
       "      <th>GPA</th>\n",
       "      <th>Algebra</th>\n",
       "      <th>Calculus1</th>\n",
       "      <th>Calculus2</th>\n",
       "      <th>Statistics</th>\n",
       "      <th>Probability</th>\n",
       "      <th>Measure</th>\n",
       "      <th>Functional_analysis</th>\n",
       "    </tr>\n",
       "  </thead>\n",
       "  <tbody>\n",
       "    <tr>\n",
       "      <th>count</th>\n",
       "      <td>105.000000</td>\n",
       "      <td>105.000000</td>\n",
       "      <td>105.000000</td>\n",
       "      <td>105.000000</td>\n",
       "      <td>105.000000</td>\n",
       "      <td>105.000000</td>\n",
       "      <td>105.000000</td>\n",
       "      <td>105.000000</td>\n",
       "      <td>105.000000</td>\n",
       "    </tr>\n",
       "    <tr>\n",
       "      <th>mean</th>\n",
       "      <td>1.790476</td>\n",
       "      <td>82.957048</td>\n",
       "      <td>76.057143</td>\n",
       "      <td>71.961905</td>\n",
       "      <td>78.942857</td>\n",
       "      <td>85.133333</td>\n",
       "      <td>83.876190</td>\n",
       "      <td>80.761905</td>\n",
       "      <td>75.323810</td>\n",
       "    </tr>\n",
       "    <tr>\n",
       "      <th>std</th>\n",
       "      <td>1.673867</td>\n",
       "      <td>6.053187</td>\n",
       "      <td>11.722618</td>\n",
       "      <td>12.197039</td>\n",
       "      <td>14.997326</td>\n",
       "      <td>10.269509</td>\n",
       "      <td>10.514363</td>\n",
       "      <td>10.296119</td>\n",
       "      <td>13.003324</td>\n",
       "    </tr>\n",
       "    <tr>\n",
       "      <th>min</th>\n",
       "      <td>1.000000</td>\n",
       "      <td>63.490000</td>\n",
       "      <td>46.000000</td>\n",
       "      <td>38.000000</td>\n",
       "      <td>17.000000</td>\n",
       "      <td>51.000000</td>\n",
       "      <td>29.000000</td>\n",
       "      <td>54.000000</td>\n",
       "      <td>9.000000</td>\n",
       "    </tr>\n",
       "    <tr>\n",
       "      <th>25%</th>\n",
       "      <td>1.000000</td>\n",
       "      <td>79.340000</td>\n",
       "      <td>67.000000</td>\n",
       "      <td>64.000000</td>\n",
       "      <td>71.000000</td>\n",
       "      <td>80.000000</td>\n",
       "      <td>79.000000</td>\n",
       "      <td>74.000000</td>\n",
       "      <td>67.000000</td>\n",
       "    </tr>\n",
       "    <tr>\n",
       "      <th>50%</th>\n",
       "      <td>1.000000</td>\n",
       "      <td>84.110000</td>\n",
       "      <td>76.000000</td>\n",
       "      <td>73.000000</td>\n",
       "      <td>83.000000</td>\n",
       "      <td>87.000000</td>\n",
       "      <td>85.000000</td>\n",
       "      <td>81.000000</td>\n",
       "      <td>76.000000</td>\n",
       "    </tr>\n",
       "    <tr>\n",
       "      <th>75%</th>\n",
       "      <td>1.000000</td>\n",
       "      <td>87.300000</td>\n",
       "      <td>84.000000</td>\n",
       "      <td>80.000000</td>\n",
       "      <td>91.000000</td>\n",
       "      <td>92.000000</td>\n",
       "      <td>92.000000</td>\n",
       "      <td>89.000000</td>\n",
       "      <td>85.000000</td>\n",
       "    </tr>\n",
       "    <tr>\n",
       "      <th>max</th>\n",
       "      <td>7.000000</td>\n",
       "      <td>93.710000</td>\n",
       "      <td>98.000000</td>\n",
       "      <td>100.000000</td>\n",
       "      <td>99.000000</td>\n",
       "      <td>100.000000</td>\n",
       "      <td>97.000000</td>\n",
       "      <td>100.000000</td>\n",
       "      <td>100.000000</td>\n",
       "    </tr>\n",
       "  </tbody>\n",
       "</table>\n",
       "</div>"
      ],
      "text/plain": [
       "             race         GPA     Algebra   Calculus1   Calculus2  Statistics  \\\n",
       "count  105.000000  105.000000  105.000000  105.000000  105.000000  105.000000   \n",
       "mean     1.790476   82.957048   76.057143   71.961905   78.942857   85.133333   \n",
       "std      1.673867    6.053187   11.722618   12.197039   14.997326   10.269509   \n",
       "min      1.000000   63.490000   46.000000   38.000000   17.000000   51.000000   \n",
       "25%      1.000000   79.340000   67.000000   64.000000   71.000000   80.000000   \n",
       "50%      1.000000   84.110000   76.000000   73.000000   83.000000   87.000000   \n",
       "75%      1.000000   87.300000   84.000000   80.000000   91.000000   92.000000   \n",
       "max      7.000000   93.710000   98.000000  100.000000   99.000000  100.000000   \n",
       "\n",
       "       Probability     Measure  Functional_analysis  \n",
       "count   105.000000  105.000000           105.000000  \n",
       "mean     83.876190   80.761905            75.323810  \n",
       "std      10.514363   10.296119            13.003324  \n",
       "min      29.000000   54.000000             9.000000  \n",
       "25%      79.000000   74.000000            67.000000  \n",
       "50%      85.000000   81.000000            76.000000  \n",
       "75%      92.000000   89.000000            85.000000  \n",
       "max      97.000000  100.000000           100.000000  "
      ]
     },
     "execution_count": 13,
     "metadata": {},
     "output_type": "execute_result"
    }
   ],
   "source": [
    "# Get the statistics of the numerical columns\n",
    "\n",
    "df.describe()"
   ]
  },
  {
   "cell_type": "code",
   "execution_count": 14,
   "id": "1fd35e07",
   "metadata": {},
   "outputs": [
    {
     "data": {
      "text/html": [
       "<div>\n",
       "<style scoped>\n",
       "    .dataframe tbody tr th:only-of-type {\n",
       "        vertical-align: middle;\n",
       "    }\n",
       "\n",
       "    .dataframe tbody tr th {\n",
       "        vertical-align: top;\n",
       "    }\n",
       "\n",
       "    .dataframe thead th {\n",
       "        text-align: right;\n",
       "    }\n",
       "</style>\n",
       "<table border=\"1\" class=\"dataframe\">\n",
       "  <thead>\n",
       "    <tr style=\"text-align: right;\">\n",
       "      <th></th>\n",
       "      <th>class</th>\n",
       "      <th>gender</th>\n",
       "      <th>race</th>\n",
       "      <th>GPA</th>\n",
       "      <th>Algebra</th>\n",
       "      <th>Calculus1</th>\n",
       "      <th>Calculus2</th>\n",
       "      <th>Statistics</th>\n",
       "      <th>Probability</th>\n",
       "      <th>Measure</th>\n",
       "      <th>Functional_analysis</th>\n",
       "    </tr>\n",
       "  </thead>\n",
       "  <tbody>\n",
       "    <tr>\n",
       "      <th>count</th>\n",
       "      <td>105</td>\n",
       "      <td>105</td>\n",
       "      <td>105.000000</td>\n",
       "      <td>105.000000</td>\n",
       "      <td>105.000000</td>\n",
       "      <td>105.000000</td>\n",
       "      <td>105.000000</td>\n",
       "      <td>105.000000</td>\n",
       "      <td>105.000000</td>\n",
       "      <td>105.000000</td>\n",
       "      <td>105.000000</td>\n",
       "    </tr>\n",
       "    <tr>\n",
       "      <th>unique</th>\n",
       "      <td>2</td>\n",
       "      <td>2</td>\n",
       "      <td>NaN</td>\n",
       "      <td>NaN</td>\n",
       "      <td>NaN</td>\n",
       "      <td>NaN</td>\n",
       "      <td>NaN</td>\n",
       "      <td>NaN</td>\n",
       "      <td>NaN</td>\n",
       "      <td>NaN</td>\n",
       "      <td>NaN</td>\n",
       "    </tr>\n",
       "    <tr>\n",
       "      <th>top</th>\n",
       "      <td>A</td>\n",
       "      <td>female</td>\n",
       "      <td>NaN</td>\n",
       "      <td>NaN</td>\n",
       "      <td>NaN</td>\n",
       "      <td>NaN</td>\n",
       "      <td>NaN</td>\n",
       "      <td>NaN</td>\n",
       "      <td>NaN</td>\n",
       "      <td>NaN</td>\n",
       "      <td>NaN</td>\n",
       "    </tr>\n",
       "    <tr>\n",
       "      <th>freq</th>\n",
       "      <td>76</td>\n",
       "      <td>68</td>\n",
       "      <td>NaN</td>\n",
       "      <td>NaN</td>\n",
       "      <td>NaN</td>\n",
       "      <td>NaN</td>\n",
       "      <td>NaN</td>\n",
       "      <td>NaN</td>\n",
       "      <td>NaN</td>\n",
       "      <td>NaN</td>\n",
       "      <td>NaN</td>\n",
       "    </tr>\n",
       "    <tr>\n",
       "      <th>mean</th>\n",
       "      <td>NaN</td>\n",
       "      <td>NaN</td>\n",
       "      <td>1.790476</td>\n",
       "      <td>82.957048</td>\n",
       "      <td>76.057143</td>\n",
       "      <td>71.961905</td>\n",
       "      <td>78.942857</td>\n",
       "      <td>85.133333</td>\n",
       "      <td>83.876190</td>\n",
       "      <td>80.761905</td>\n",
       "      <td>75.323810</td>\n",
       "    </tr>\n",
       "    <tr>\n",
       "      <th>std</th>\n",
       "      <td>NaN</td>\n",
       "      <td>NaN</td>\n",
       "      <td>1.673867</td>\n",
       "      <td>6.053187</td>\n",
       "      <td>11.722618</td>\n",
       "      <td>12.197039</td>\n",
       "      <td>14.997326</td>\n",
       "      <td>10.269509</td>\n",
       "      <td>10.514363</td>\n",
       "      <td>10.296119</td>\n",
       "      <td>13.003324</td>\n",
       "    </tr>\n",
       "    <tr>\n",
       "      <th>min</th>\n",
       "      <td>NaN</td>\n",
       "      <td>NaN</td>\n",
       "      <td>1.000000</td>\n",
       "      <td>63.490000</td>\n",
       "      <td>46.000000</td>\n",
       "      <td>38.000000</td>\n",
       "      <td>17.000000</td>\n",
       "      <td>51.000000</td>\n",
       "      <td>29.000000</td>\n",
       "      <td>54.000000</td>\n",
       "      <td>9.000000</td>\n",
       "    </tr>\n",
       "    <tr>\n",
       "      <th>25%</th>\n",
       "      <td>NaN</td>\n",
       "      <td>NaN</td>\n",
       "      <td>1.000000</td>\n",
       "      <td>79.340000</td>\n",
       "      <td>67.000000</td>\n",
       "      <td>64.000000</td>\n",
       "      <td>71.000000</td>\n",
       "      <td>80.000000</td>\n",
       "      <td>79.000000</td>\n",
       "      <td>74.000000</td>\n",
       "      <td>67.000000</td>\n",
       "    </tr>\n",
       "    <tr>\n",
       "      <th>50%</th>\n",
       "      <td>NaN</td>\n",
       "      <td>NaN</td>\n",
       "      <td>1.000000</td>\n",
       "      <td>84.110000</td>\n",
       "      <td>76.000000</td>\n",
       "      <td>73.000000</td>\n",
       "      <td>83.000000</td>\n",
       "      <td>87.000000</td>\n",
       "      <td>85.000000</td>\n",
       "      <td>81.000000</td>\n",
       "      <td>76.000000</td>\n",
       "    </tr>\n",
       "    <tr>\n",
       "      <th>75%</th>\n",
       "      <td>NaN</td>\n",
       "      <td>NaN</td>\n",
       "      <td>1.000000</td>\n",
       "      <td>87.300000</td>\n",
       "      <td>84.000000</td>\n",
       "      <td>80.000000</td>\n",
       "      <td>91.000000</td>\n",
       "      <td>92.000000</td>\n",
       "      <td>92.000000</td>\n",
       "      <td>89.000000</td>\n",
       "      <td>85.000000</td>\n",
       "    </tr>\n",
       "    <tr>\n",
       "      <th>max</th>\n",
       "      <td>NaN</td>\n",
       "      <td>NaN</td>\n",
       "      <td>7.000000</td>\n",
       "      <td>93.710000</td>\n",
       "      <td>98.000000</td>\n",
       "      <td>100.000000</td>\n",
       "      <td>99.000000</td>\n",
       "      <td>100.000000</td>\n",
       "      <td>97.000000</td>\n",
       "      <td>100.000000</td>\n",
       "      <td>100.000000</td>\n",
       "    </tr>\n",
       "  </tbody>\n",
       "</table>\n",
       "</div>"
      ],
      "text/plain": [
       "       class  gender        race         GPA     Algebra   Calculus1  \\\n",
       "count    105     105  105.000000  105.000000  105.000000  105.000000   \n",
       "unique     2       2         NaN         NaN         NaN         NaN   \n",
       "top        A  female         NaN         NaN         NaN         NaN   \n",
       "freq      76      68         NaN         NaN         NaN         NaN   \n",
       "mean     NaN     NaN    1.790476   82.957048   76.057143   71.961905   \n",
       "std      NaN     NaN    1.673867    6.053187   11.722618   12.197039   \n",
       "min      NaN     NaN    1.000000   63.490000   46.000000   38.000000   \n",
       "25%      NaN     NaN    1.000000   79.340000   67.000000   64.000000   \n",
       "50%      NaN     NaN    1.000000   84.110000   76.000000   73.000000   \n",
       "75%      NaN     NaN    1.000000   87.300000   84.000000   80.000000   \n",
       "max      NaN     NaN    7.000000   93.710000   98.000000  100.000000   \n",
       "\n",
       "         Calculus2  Statistics  Probability     Measure  Functional_analysis  \n",
       "count   105.000000  105.000000   105.000000  105.000000           105.000000  \n",
       "unique         NaN         NaN          NaN         NaN                  NaN  \n",
       "top            NaN         NaN          NaN         NaN                  NaN  \n",
       "freq           NaN         NaN          NaN         NaN                  NaN  \n",
       "mean     78.942857   85.133333    83.876190   80.761905            75.323810  \n",
       "std      14.997326   10.269509    10.514363   10.296119            13.003324  \n",
       "min      17.000000   51.000000    29.000000   54.000000             9.000000  \n",
       "25%      71.000000   80.000000    79.000000   74.000000            67.000000  \n",
       "50%      83.000000   87.000000    85.000000   81.000000            76.000000  \n",
       "75%      91.000000   92.000000    92.000000   89.000000            85.000000  \n",
       "max      99.000000  100.000000    97.000000  100.000000           100.000000  "
      ]
     },
     "execution_count": 14,
     "metadata": {},
     "output_type": "execute_result"
    }
   ],
   "source": [
    "# Get the statistics of categorical columns\n",
    "\n",
    "df.describe(include='all')"
   ]
  },
  {
   "cell_type": "code",
   "execution_count": 15,
   "id": "170c5da1",
   "metadata": {},
   "outputs": [
    {
     "data": {
      "text/plain": [
       "class                  105\n",
       "gender                 105\n",
       "race                   105\n",
       "GPA                    105\n",
       "Algebra                105\n",
       "Calculus1              105\n",
       "Calculus2              105\n",
       "Statistics             105\n",
       "Probability            105\n",
       "Measure                105\n",
       "Functional_analysis    105\n",
       "dtype: int64"
      ]
     },
     "execution_count": 15,
     "metadata": {},
     "output_type": "execute_result"
    }
   ],
   "source": [
    "# What is the total number for each column\n",
    "\n",
    "df.count()"
   ]
  },
  {
   "cell_type": "code",
   "execution_count": 16,
   "id": "47bf9eca",
   "metadata": {},
   "outputs": [
    {
     "data": {
      "text/plain": [
       "Index(['class', 'gender', 'race', 'GPA', 'Algebra', 'Calculus1', 'Calculus2',\n",
       "       'Statistics', 'Probability', 'Measure', 'Functional_analysis'],\n",
       "      dtype='object')"
      ]
     },
     "execution_count": 16,
     "metadata": {},
     "output_type": "execute_result"
    }
   ],
   "source": [
    "# Print out the names of columns in the data set\n",
    "\n",
    "df.columns"
   ]
  },
  {
   "cell_type": "code",
   "execution_count": 17,
   "id": "d5d46df3",
   "metadata": {},
   "outputs": [
    {
     "data": {
      "text/plain": [
       "0"
      ]
     },
     "execution_count": 17,
     "metadata": {},
     "output_type": "execute_result"
    }
   ],
   "source": [
    "# Check any duplicates present in the data set\n",
    "\n",
    "df.duplicated().sum()"
   ]
  },
  {
   "cell_type": "code",
   "execution_count": 18,
   "id": "a7edd29f",
   "metadata": {},
   "outputs": [
    {
     "data": {
      "text/plain": [
       "105"
      ]
     },
     "execution_count": 18,
     "metadata": {},
     "output_type": "execute_result"
    }
   ],
   "source": [
    "# Check the number of content present in the data set using shape function\n",
    "\n",
    "df.shape[0]"
   ]
  },
  {
   "cell_type": "code",
   "execution_count": 19,
   "id": "30ccbfd1",
   "metadata": {},
   "outputs": [
    {
     "data": {
      "text/plain": [
       "11"
      ]
     },
     "execution_count": 19,
     "metadata": {},
     "output_type": "execute_result"
    }
   ],
   "source": [
    "# Check the number of columns present in the data set using shape funcion\n",
    "\n",
    "df.shape[1]"
   ]
  },
  {
   "cell_type": "markdown",
   "id": "b2a22473",
   "metadata": {},
   "source": [
    "# Detecting and handling nulls\n",
    "\n",
    "### No nulls were detected in this data set, and it's likely because of its' small data size(105 rows)."
   ]
  },
  {
   "cell_type": "code",
   "execution_count": 20,
   "id": "508164d5",
   "metadata": {},
   "outputs": [
    {
     "data": {
      "text/plain": [
       "class                  0\n",
       "gender                 0\n",
       "race                   0\n",
       "GPA                    0\n",
       "Algebra                0\n",
       "Calculus1              0\n",
       "Calculus2              0\n",
       "Statistics             0\n",
       "Probability            0\n",
       "Measure                0\n",
       "Functional_analysis    0\n",
       "dtype: int64"
      ]
     },
     "execution_count": 20,
     "metadata": {},
     "output_type": "execute_result"
    }
   ],
   "source": [
    "# Count the total no of nulls present in th data set\n",
    "\n",
    "df.isnull().sum()"
   ]
  },
  {
   "cell_type": "markdown",
   "id": "35e75c0d",
   "metadata": {},
   "source": [
    "# Step 6\n",
    "\n",
    "## Univariate Analysis\n",
    "\n",
    "### This is a type of analysis that involves plotting charts on a single variable or column. It is usually used for viewing the distribution and the composition of the data.\n",
    "\n",
    "### Here, I performed a univariate analysis using a horizontal bar chart on the gender column and discovered that race 7 seems to be occuring the highest. Note that the race column is censored so I can't conclude on the continent, which race 7 belongs.\n",
    "\n",
    "### Bar charts and histograms are usually used for seeing the distribution in a data set\n"
   ]
  },
  {
   "cell_type": "code",
   "execution_count": 21,
   "id": "0a1ba44d",
   "metadata": {},
   "outputs": [
    {
     "data": {
      "image/png": "[encoded data removed]",
      "text/plain": [
       "<Figure size 432x288 with 1 Axes>"
      ]
     },
     "metadata": {
      "needs_background": "light"
     },
     "output_type": "display_data"
    }
   ],
   "source": [
    "# Perform a univariate analysis on race column to show the highest occuring race \n",
    "\n",
    "df.race.value_counts(normalize=True).plot.barh()\n",
    "plt.show()"
   ]
  },
  {
   "cell_type": "markdown",
   "id": "b2652157",
   "metadata": {},
   "source": [
    "### The gender column is categorized into male and female students, so I performed a univariate analysis on it,  using a pie chart to see the composition.\n",
    "\n",
    "### I was able to deduce that there are more female students than  male students."
   ]
  },
  {
   "cell_type": "code",
   "execution_count": 22,
   "id": "ed2a84ad",
   "metadata": {},
   "outputs": [
    {
     "data": {
      "image/png": "[encoded data removed]",
      "text/plain": [
       "<Figure size 432x288 with 1 Axes>"
      ]
     },
     "metadata": {},
     "output_type": "display_data"
    }
   ],
   "source": [
    "\n",
    "# Perform a univariate analysis on gender column, showing female as the highest no of students in the class\n",
    "\n",
    "df.gender.value_counts(normalize=True).plot.pie()\n",
    "plt.show()"
   ]
  },
  {
   "cell_type": "markdown",
   "id": "9643f666",
   "metadata": {},
   "source": [
    "## "
   ]
  },
  {
   "cell_type": "markdown",
   "id": "6f3c59b6",
   "metadata": {},
   "source": [
    "### Performing a Numerical and Numerical Bivariate Analysis using Scatter plot to determine the relationship between two columns.\n",
    "\n",
    "### The charts below demonstrate some relationship between the subject columns and GPA\n"
   ]
  },
  {
   "cell_type": "code",
   "execution_count": 23,
   "id": "fd0286e8",
   "metadata": {},
   "outputs": [
    {
     "data": {
      "image/png": "[encoded data removed]",
      "text/plain": [
       "<Figure size 432x288 with 1 Axes>"
      ]
     },
     "metadata": {
      "needs_background": "light"
     },
     "output_type": "display_data"
    }
   ],
   "source": [
    "# Plot the scatter plot of GPA and Algebra variable in data\n",
    "\n",
    "df.plot.scatter(x='GPA', y='Algebra')\n",
    "plt.show()"
   ]
  },
  {
   "cell_type": "code",
   "execution_count": 24,
   "id": "e8155a73",
   "metadata": {},
   "outputs": [
    {
     "data": {
      "image/png": "[encoded data removed]",
      "text/plain": [
       "<Figure size 432x288 with 1 Axes>"
      ]
     },
     "metadata": {
      "needs_background": "light"
     },
     "output_type": "display_data"
    }
   ],
   "source": [
    "# Plot the scatter plot of GPA and statistics variables in data\n",
    "\n",
    "df.plot.scatter(x='GPA', y='Statistics')\n",
    "plt.show()"
   ]
  },
  {
   "cell_type": "code",
   "execution_count": 25,
   "id": "91d49f5e",
   "metadata": {},
   "outputs": [
    {
     "data": {
      "image/png": "[encoded data removed]",
      "text/plain": [
       "<Figure size 540x540 with 12 Axes>"
      ]
     },
     "metadata": {
      "needs_background": "light"
     },
     "output_type": "display_data"
    }
   ],
   "source": [
    "# Plot the pair plot of GPA, Algebra, Statistics\n",
    "\n",
    "sns.pairplot(data=df, vars=['GPA', 'Calculus1', 'Calculus2'])\n",
    "plt.show()"
   ]
  },
  {
   "cell_type": "markdown",
   "id": "72e5698d",
   "metadata": {},
   "source": [
    "## Correlation Matrix\n",
    "\n",
    "### Correlation Matrix is used to determine how variables or columns affects each other. \n",
    "\n",
    "### So, I used heatmap to visualize the relationship amongst the gender, race and GPA columns."
   ]
  },
  {
   "cell_type": "code",
   "execution_count": 26,
   "id": "b980246c",
   "metadata": {},
   "outputs": [
    {
     "data": {
      "text/html": [
       "<div>\n",
       "<style scoped>\n",
       "    .dataframe tbody tr th:only-of-type {\n",
       "        vertical-align: middle;\n",
       "    }\n",
       "\n",
       "    .dataframe tbody tr th {\n",
       "        vertical-align: top;\n",
       "    }\n",
       "\n",
       "    .dataframe thead th {\n",
       "        text-align: right;\n",
       "    }\n",
       "</style>\n",
       "<table border=\"1\" class=\"dataframe\">\n",
       "  <thead>\n",
       "    <tr style=\"text-align: right;\">\n",
       "      <th></th>\n",
       "      <th>race</th>\n",
       "      <th>GPA</th>\n",
       "    </tr>\n",
       "  </thead>\n",
       "  <tbody>\n",
       "    <tr>\n",
       "      <th>race</th>\n",
       "      <td>1.000000</td>\n",
       "      <td>-0.246571</td>\n",
       "    </tr>\n",
       "    <tr>\n",
       "      <th>GPA</th>\n",
       "      <td>-0.246571</td>\n",
       "      <td>1.000000</td>\n",
       "    </tr>\n",
       "  </tbody>\n",
       "</table>\n",
       "</div>"
      ],
      "text/plain": [
       "          race       GPA\n",
       "race  1.000000 -0.246571\n",
       "GPA  -0.246571  1.000000"
      ]
     },
     "execution_count": 26,
     "metadata": {},
     "output_type": "execute_result"
    }
   ],
   "source": [
    "# Create a correlation matrix using GPA, Algebra, Statistics\n",
    "\n",
    "df[['gender', 'race', 'GPA']].corr()"
   ]
  },
  {
   "cell_type": "code",
   "execution_count": 27,
   "id": "e92eb104",
   "metadata": {},
   "outputs": [
    {
     "data": {
      "image/png": "[encoded data removed]",
      "text/plain": [
       "<Figure size 432x288 with 2 Axes>"
      ]
     },
     "metadata": {
      "needs_background": "light"
     },
     "output_type": "display_data"
    }
   ],
   "source": [
    "# Plot the correlation matrix of GPA, Algebra and Statistics\n",
    "\n",
    "sns.heatmap(df[[ 'race','GPA']].corr(), annot=True, cmap='Reds')\n",
    "plt.show()"
   ]
  },
  {
   "cell_type": "code",
   "execution_count": 28,
   "id": "d9a1f3a9",
   "metadata": {},
   "outputs": [
    {
     "data": {
      "text/plain": [
       "class\n",
       "A    72.697368\n",
       "B    70.034483\n",
       "Name: Calculus1, dtype: float64"
      ]
     },
     "execution_count": 28,
     "metadata": {},
     "output_type": "execute_result"
    }
   ],
   "source": [
    "# Check the average score of calculus1 by each class\n",
    "\n",
    "df.groupby('class')['Calculus1'].mean()"
   ]
  },
  {
   "cell_type": "markdown",
   "id": "627388d1",
   "metadata": {},
   "source": [
    "## Central Tendency of the Data set\n",
    "\n",
    "### Using the mean and median function, The average values of the numerical (subjects) columns and its median value were calculated and visualized."
   ]
  },
  {
   "cell_type": "code",
   "execution_count": 29,
   "id": "f0f617e9",
   "metadata": {},
   "outputs": [
    {
     "data": {
      "image/png": "[encoded data removed]",
      "text/plain": [
       "<Figure size 432x288 with 1 Axes>"
      ]
     },
     "metadata": {
      "needs_background": "light"
     },
     "output_type": "display_data"
    }
   ],
   "source": [
    "# Plot the average score of Calculus1\n",
    "\n",
    "df.groupby('class')['Calculus1'].mean().plot()\n",
    "plt.show()"
   ]
  },
  {
   "cell_type": "code",
   "execution_count": 30,
   "id": "6d583b6c",
   "metadata": {},
   "outputs": [
    {
     "data": {
      "text/plain": [
       "class\n",
       "A    78.565789\n",
       "B    79.931034\n",
       "Name: Calculus2, dtype: float64"
      ]
     },
     "execution_count": 30,
     "metadata": {},
     "output_type": "execute_result"
    }
   ],
   "source": [
    "# Check the average score of calculus2 by each class\n",
    "\n",
    "df.groupby('class')['Calculus2'].mean()"
   ]
  },
  {
   "cell_type": "code",
   "execution_count": 31,
   "id": "4109379d",
   "metadata": {},
   "outputs": [
    {
     "data": {
      "text/plain": [
       "class\n",
       "A    83\n",
       "B    83\n",
       "Name: Calculus2, dtype: int64"
      ]
     },
     "execution_count": 31,
     "metadata": {},
     "output_type": "execute_result"
    }
   ],
   "source": [
    "# Check the median score of calculus2 by each class\n",
    "\n",
    "df.groupby('class')['Calculus2'].median()"
   ]
  },
  {
   "cell_type": "code",
   "execution_count": 32,
   "id": "0da895b3",
   "metadata": {},
   "outputs": [
    {
     "data": {
      "text/plain": [
       "class\n",
       "A    75.934211\n",
       "B    76.379310\n",
       "Name: Algebra, dtype: float64"
      ]
     },
     "execution_count": 32,
     "metadata": {},
     "output_type": "execute_result"
    }
   ],
   "source": [
    "# Check the average score of Algebra by each class\n",
    "\n",
    "df.groupby('class')['Algebra'].mean()"
   ]
  },
  {
   "cell_type": "code",
   "execution_count": 33,
   "id": "f35654d3",
   "metadata": {},
   "outputs": [
    {
     "data": {
      "text/plain": [
       "class\n",
       "A    76\n",
       "B    75\n",
       "Name: Algebra, dtype: int64"
      ]
     },
     "execution_count": 33,
     "metadata": {},
     "output_type": "execute_result"
    }
   ],
   "source": [
    "# Check the median score of Algebra by each class\n",
    "\n",
    "df.groupby('class')['Algebra'].median()"
   ]
  },
  {
   "cell_type": "code",
   "execution_count": 34,
   "id": "5144ada8",
   "metadata": {},
   "outputs": [
    {
     "data": {
      "image/png": "[encoded data removed]",
      "text/plain": [
       "<Figure size 432x288 with 1 Axes>"
      ]
     },
     "metadata": {
      "needs_background": "light"
     },
     "output_type": "display_data"
    }
   ],
   "source": [
    "# Plot the average score of Algebra\n",
    "\n",
    "df.groupby('class')['Algebra'].mean().plot()\n",
    "plt.show()"
   ]
  },
  {
   "cell_type": "code",
   "execution_count": 35,
   "id": "9578d782",
   "metadata": {},
   "outputs": [
    {
     "data": {
      "text/plain": [
       "class\n",
       "A    85.131579\n",
       "B    85.137931\n",
       "Name: Statistics, dtype: float64"
      ]
     },
     "execution_count": 35,
     "metadata": {},
     "output_type": "execute_result"
    }
   ],
   "source": [
    "# Check the average score of Statistics by each class\n",
    "\n",
    "df.groupby('class')['Statistics'].mean()"
   ]
  },
  {
   "cell_type": "code",
   "execution_count": 36,
   "id": "ab84aaf0",
   "metadata": {},
   "outputs": [
    {
     "data": {
      "text/plain": [
       "class\n",
       "A    87.5\n",
       "B    87.0\n",
       "Name: Statistics, dtype: float64"
      ]
     },
     "execution_count": 36,
     "metadata": {},
     "output_type": "execute_result"
    }
   ],
   "source": [
    "# Check the median score of Statistics by each class\n",
    "\n",
    "df.groupby('class')['Statistics'].median()"
   ]
  },
  {
   "cell_type": "code",
   "execution_count": 37,
   "id": "68abddc3",
   "metadata": {},
   "outputs": [
    {
     "data": {
      "image/png": "[encoded data removed]",
      "text/plain": [
       "<Figure size 432x288 with 1 Axes>"
      ]
     },
     "metadata": {
      "needs_background": "light"
     },
     "output_type": "display_data"
    }
   ],
   "source": [
    "# Plot the average score of Statistics\n",
    "\n",
    "df.groupby('class')['Statistics'].mean().plot(kind='bar')\n",
    "plt.show()"
   ]
  },
  {
   "cell_type": "code",
   "execution_count": 38,
   "id": "0ec26091",
   "metadata": {},
   "outputs": [
    {
     "data": {
      "text/plain": [
       "class\n",
       "A    83.131579\n",
       "B    85.827586\n",
       "Name: Probability, dtype: float64"
      ]
     },
     "execution_count": 38,
     "metadata": {},
     "output_type": "execute_result"
    }
   ],
   "source": [
    "# Check the average score of Probability by each class\n",
    "\n",
    "df.groupby('class')['Probability'].mean()"
   ]
  },
  {
   "cell_type": "code",
   "execution_count": 39,
   "id": "820fbeb3",
   "metadata": {},
   "outputs": [
    {
     "data": {
      "text/plain": [
       "class\n",
       "A    85\n",
       "B    87\n",
       "Name: Probability, dtype: int64"
      ]
     },
     "execution_count": 39,
     "metadata": {},
     "output_type": "execute_result"
    }
   ],
   "source": [
    "df.groupby('class')['Probability'].median()"
   ]
  },
  {
   "cell_type": "code",
   "execution_count": 40,
   "id": "0c3e986c",
   "metadata": {},
   "outputs": [
    {
     "data": {
      "image/png": "[encoded data removed]",
      "text/plain": [
       "<Figure size 432x288 with 1 Axes>"
      ]
     },
     "metadata": {},
     "output_type": "display_data"
    }
   ],
   "source": [
    "# Plot the average score of Probability\n",
    "\n",
    "df.groupby('class')['Probability'].mean().plot(kind='pie')\n",
    "plt.show()"
   ]
  },
  {
   "cell_type": "markdown",
   "id": "c5e396d6",
   "metadata": {},
   "source": [
    "# Conclusion\n",
    "\n",
    "### After my analysis with this particular data set, I was able to determine that there is a negative correlation between GPA and race columns.\n"
   ]
  },
  {
   "cell_type": "code",
   "execution_count": null,
   "id": "e7d9cbc9",
   "metadata": {},
   "outputs": [],
   "source": []
  },
  {
   "cell_type": "code",
   "execution_count": null,
   "id": "8a2bcff9",
   "metadata": {},
   "outputs": [],
   "source": []
  }
 ],
 "metadata": {
  "kernelspec": {
   "display_name": "Python 3",
   "language": "python",
   "name": "python3"
  },
  "language_info": {
   "codemirror_mode": {
    "name": "ipython",
    "version": 3
   },
   "file_extension": ".py",
   "mimetype": "text/x-python",
   "name": "python",
   "nbconvert_exporter": "python",
   "pygments_lexer": "ipython3",
   "version": "3.8.8"
  }
 },
 "nbformat": 4,
 "nbformat_minor": 5
}
